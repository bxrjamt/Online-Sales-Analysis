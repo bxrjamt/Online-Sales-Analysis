{
 "cells": [
  {
   "cell_type": "markdown",
   "id": "c45e0afa-9e1a-42b6-b0f2-6a3ba368e374",
   "metadata": {},
   "source": [
    "## Limpieza de los datos"
   ]
  },
  {
   "cell_type": "code",
   "execution_count": 6,
   "id": "27803e9b-ff56-454d-b332-5faa444d5bc3",
   "metadata": {},
   "outputs": [],
   "source": [
    "# 1. Importamos librerías necesarias\n",
    "import pandas as pd\n",
    "import matplotlib.pyplot as plt\n",
    "import seaborn as sns"
   ]
  },
  {
   "cell_type": "code",
   "execution_count": 7,
   "id": "2ceb0f24-2a39-4055-b738-94689848e011",
   "metadata": {},
   "outputs": [
    {
     "data": {
      "text/html": [
       "<div>\n",
       "<style scoped>\n",
       "    .dataframe tbody tr th:only-of-type {\n",
       "        vertical-align: middle;\n",
       "    }\n",
       "\n",
       "    .dataframe tbody tr th {\n",
       "        vertical-align: top;\n",
       "    }\n",
       "\n",
       "    .dataframe thead th {\n",
       "        text-align: right;\n",
       "    }\n",
       "</style>\n",
       "<table border=\"1\" class=\"dataframe\">\n",
       "  <thead>\n",
       "    <tr style=\"text-align: right;\">\n",
       "      <th></th>\n",
       "      <th>Transaction ID</th>\n",
       "      <th>Date</th>\n",
       "      <th>Product Category</th>\n",
       "      <th>Product Name</th>\n",
       "      <th>Units Sold</th>\n",
       "      <th>Unit Price</th>\n",
       "      <th>Total Revenue</th>\n",
       "      <th>Region</th>\n",
       "      <th>Payment Method</th>\n",
       "    </tr>\n",
       "  </thead>\n",
       "  <tbody>\n",
       "    <tr>\n",
       "      <th>0</th>\n",
       "      <td>10001</td>\n",
       "      <td>2024-01-01</td>\n",
       "      <td>Electronics</td>\n",
       "      <td>iPhone 14 Pro</td>\n",
       "      <td>2</td>\n",
       "      <td>999.99</td>\n",
       "      <td>1999.98</td>\n",
       "      <td>North America</td>\n",
       "      <td>Credit Card</td>\n",
       "    </tr>\n",
       "    <tr>\n",
       "      <th>1</th>\n",
       "      <td>10002</td>\n",
       "      <td>2024-01-02</td>\n",
       "      <td>Home Appliances</td>\n",
       "      <td>Dyson V11 Vacuum</td>\n",
       "      <td>1</td>\n",
       "      <td>499.99</td>\n",
       "      <td>499.99</td>\n",
       "      <td>Europe</td>\n",
       "      <td>PayPal</td>\n",
       "    </tr>\n",
       "    <tr>\n",
       "      <th>2</th>\n",
       "      <td>10003</td>\n",
       "      <td>2024-01-03</td>\n",
       "      <td>Clothing</td>\n",
       "      <td>Levi's 501 Jeans</td>\n",
       "      <td>3</td>\n",
       "      <td>69.99</td>\n",
       "      <td>209.97</td>\n",
       "      <td>Asia</td>\n",
       "      <td>Debit Card</td>\n",
       "    </tr>\n",
       "    <tr>\n",
       "      <th>3</th>\n",
       "      <td>10004</td>\n",
       "      <td>2024-01-04</td>\n",
       "      <td>Books</td>\n",
       "      <td>The Da Vinci Code</td>\n",
       "      <td>4</td>\n",
       "      <td>15.99</td>\n",
       "      <td>63.96</td>\n",
       "      <td>North America</td>\n",
       "      <td>Credit Card</td>\n",
       "    </tr>\n",
       "    <tr>\n",
       "      <th>4</th>\n",
       "      <td>10005</td>\n",
       "      <td>2024-01-05</td>\n",
       "      <td>Beauty Products</td>\n",
       "      <td>Neutrogena Skincare Set</td>\n",
       "      <td>1</td>\n",
       "      <td>89.99</td>\n",
       "      <td>89.99</td>\n",
       "      <td>Europe</td>\n",
       "      <td>PayPal</td>\n",
       "    </tr>\n",
       "  </tbody>\n",
       "</table>\n",
       "</div>"
      ],
      "text/plain": [
       "   Transaction ID        Date Product Category             Product Name  \\\n",
       "0           10001  2024-01-01      Electronics            iPhone 14 Pro   \n",
       "1           10002  2024-01-02  Home Appliances         Dyson V11 Vacuum   \n",
       "2           10003  2024-01-03         Clothing         Levi's 501 Jeans   \n",
       "3           10004  2024-01-04            Books        The Da Vinci Code   \n",
       "4           10005  2024-01-05  Beauty Products  Neutrogena Skincare Set   \n",
       "\n",
       "   Units Sold  Unit Price  Total Revenue         Region Payment Method  \n",
       "0           2      999.99        1999.98  North America    Credit Card  \n",
       "1           1      499.99         499.99         Europe         PayPal  \n",
       "2           3       69.99         209.97           Asia     Debit Card  \n",
       "3           4       15.99          63.96  North America    Credit Card  \n",
       "4           1       89.99          89.99         Europe         PayPal  "
      ]
     },
     "execution_count": 7,
     "metadata": {},
     "output_type": "execute_result"
    }
   ],
   "source": [
    "# 2. Cargamos el dataset\n",
    "data = pd.read_csv(r\"C:\\Users\\Borja\\Desktop\\Analisis de Datos\\DATASETS\\Online Sales Project\\Online Sales Data.csv\")\n",
    "\n",
    "# 3. Mostramos las primeras filas para una vista general\n",
    "data.head()"
   ]
  },
  {
   "cell_type": "code",
   "execution_count": 8,
   "id": "0a0ab73a-db5f-4a9f-af51-685fda2932dc",
   "metadata": {},
   "outputs": [
    {
     "data": {
      "text/plain": [
       "Transaction ID      0\n",
       "Date                0\n",
       "Product Category    0\n",
       "Product Name        0\n",
       "Units Sold          0\n",
       "Unit Price          0\n",
       "Total Revenue       0\n",
       "Region              0\n",
       "Payment Method      0\n",
       "dtype: int64"
      ]
     },
     "execution_count": 8,
     "metadata": {},
     "output_type": "execute_result"
    }
   ],
   "source": [
    "# 4. Comprobamos si hay valores nulos en el dataset\n",
    "null_values = data.isnull().sum()\n",
    "null_values"
   ]
  },
  {
   "cell_type": "code",
   "execution_count": 9,
   "id": "54c546e9-3e8a-4c4c-bd1b-3dedd6eaff95",
   "metadata": {},
   "outputs": [
    {
     "data": {
      "text/plain": [
       "np.int64(0)"
      ]
     },
     "execution_count": 9,
     "metadata": {},
     "output_type": "execute_result"
    }
   ],
   "source": [
    "# 5. Comprobamos si hay filas duplicadas\n",
    "duplicate_rows = data.duplicated().sum()\n",
    "duplicate_rows"
   ]
  },
  {
   "cell_type": "code",
   "execution_count": 10,
   "id": "5abc93d1-8db5-4fb7-afdb-95d4f26a8a6b",
   "metadata": {},
   "outputs": [
    {
     "data": {
      "text/plain": [
       "count            240\n",
       "unique           240\n",
       "top       2024-01-01\n",
       "freq               1\n",
       "Name: Date, dtype: object"
      ]
     },
     "execution_count": 10,
     "metadata": {},
     "output_type": "execute_result"
    }
   ],
   "source": [
    "# 6. Descripción general de la columna de fechas\n",
    "date_info = data['Date'].describe()\n",
    "date_info"
   ]
  },
  {
   "cell_type": "code",
   "execution_count": 11,
   "id": "5e6a0a9f-484b-494f-843c-b0eda8bbba54",
   "metadata": {},
   "outputs": [
    {
     "data": {
      "text/plain": [
       "Transaction ID               int64\n",
       "Date                datetime64[ns]\n",
       "Product Category            object\n",
       "Product Name                object\n",
       "Units Sold                   int64\n",
       "Unit Price                 float64\n",
       "Total Revenue              float64\n",
       "Region                      object\n",
       "Payment Method              object\n",
       "dtype: object"
      ]
     },
     "execution_count": 11,
     "metadata": {},
     "output_type": "execute_result"
    }
   ],
   "source": [
    "# 7. Convertimos la columna 'Date' al tipo datetime para facilitar el análisis temporal\n",
    "data['Date'] = pd.to_datetime(data['Date'])\n",
    "\n",
    "data.dtypes"
   ]
  },
  {
   "cell_type": "code",
   "execution_count": 12,
   "id": "24ed8132-7e7c-4f98-a6b3-a25cf3cfb432",
   "metadata": {},
   "outputs": [
    {
     "data": {
      "text/html": [
       "<div>\n",
       "<style scoped>\n",
       "    .dataframe tbody tr th:only-of-type {\n",
       "        vertical-align: middle;\n",
       "    }\n",
       "\n",
       "    .dataframe tbody tr th {\n",
       "        vertical-align: top;\n",
       "    }\n",
       "\n",
       "    .dataframe thead th {\n",
       "        text-align: right;\n",
       "    }\n",
       "</style>\n",
       "<table border=\"1\" class=\"dataframe\">\n",
       "  <thead>\n",
       "    <tr style=\"text-align: right;\">\n",
       "      <th></th>\n",
       "      <th>Transaction ID</th>\n",
       "      <th>Date</th>\n",
       "      <th>Product Category</th>\n",
       "      <th>Product Name</th>\n",
       "      <th>Units Sold</th>\n",
       "      <th>Unit Price</th>\n",
       "      <th>Total Revenue</th>\n",
       "      <th>Region</th>\n",
       "      <th>Payment Method</th>\n",
       "      <th>Year</th>\n",
       "      <th>Month</th>\n",
       "      <th>Day</th>\n",
       "      <th>Day_of_Week</th>\n",
       "      <th>Week_Number</th>\n",
       "    </tr>\n",
       "  </thead>\n",
       "  <tbody>\n",
       "    <tr>\n",
       "      <th>0</th>\n",
       "      <td>10001</td>\n",
       "      <td>2024-01-01</td>\n",
       "      <td>Electronics</td>\n",
       "      <td>iPhone 14 Pro</td>\n",
       "      <td>2</td>\n",
       "      <td>999.99</td>\n",
       "      <td>1999.98</td>\n",
       "      <td>North America</td>\n",
       "      <td>Credit Card</td>\n",
       "      <td>2024</td>\n",
       "      <td>January</td>\n",
       "      <td>1</td>\n",
       "      <td>Monday</td>\n",
       "      <td>1</td>\n",
       "    </tr>\n",
       "    <tr>\n",
       "      <th>1</th>\n",
       "      <td>10002</td>\n",
       "      <td>2024-01-02</td>\n",
       "      <td>Home Appliances</td>\n",
       "      <td>Dyson V11 Vacuum</td>\n",
       "      <td>1</td>\n",
       "      <td>499.99</td>\n",
       "      <td>499.99</td>\n",
       "      <td>Europe</td>\n",
       "      <td>PayPal</td>\n",
       "      <td>2024</td>\n",
       "      <td>January</td>\n",
       "      <td>2</td>\n",
       "      <td>Tuesday</td>\n",
       "      <td>1</td>\n",
       "    </tr>\n",
       "    <tr>\n",
       "      <th>2</th>\n",
       "      <td>10003</td>\n",
       "      <td>2024-01-03</td>\n",
       "      <td>Clothing</td>\n",
       "      <td>Levi's 501 Jeans</td>\n",
       "      <td>3</td>\n",
       "      <td>69.99</td>\n",
       "      <td>209.97</td>\n",
       "      <td>Asia</td>\n",
       "      <td>Debit Card</td>\n",
       "      <td>2024</td>\n",
       "      <td>January</td>\n",
       "      <td>3</td>\n",
       "      <td>Wednesday</td>\n",
       "      <td>1</td>\n",
       "    </tr>\n",
       "    <tr>\n",
       "      <th>3</th>\n",
       "      <td>10004</td>\n",
       "      <td>2024-01-04</td>\n",
       "      <td>Books</td>\n",
       "      <td>The Da Vinci Code</td>\n",
       "      <td>4</td>\n",
       "      <td>15.99</td>\n",
       "      <td>63.96</td>\n",
       "      <td>North America</td>\n",
       "      <td>Credit Card</td>\n",
       "      <td>2024</td>\n",
       "      <td>January</td>\n",
       "      <td>4</td>\n",
       "      <td>Thursday</td>\n",
       "      <td>1</td>\n",
       "    </tr>\n",
       "    <tr>\n",
       "      <th>4</th>\n",
       "      <td>10005</td>\n",
       "      <td>2024-01-05</td>\n",
       "      <td>Beauty Products</td>\n",
       "      <td>Neutrogena Skincare Set</td>\n",
       "      <td>1</td>\n",
       "      <td>89.99</td>\n",
       "      <td>89.99</td>\n",
       "      <td>Europe</td>\n",
       "      <td>PayPal</td>\n",
       "      <td>2024</td>\n",
       "      <td>January</td>\n",
       "      <td>5</td>\n",
       "      <td>Friday</td>\n",
       "      <td>1</td>\n",
       "    </tr>\n",
       "  </tbody>\n",
       "</table>\n",
       "</div>"
      ],
      "text/plain": [
       "   Transaction ID       Date Product Category             Product Name  \\\n",
       "0           10001 2024-01-01      Electronics            iPhone 14 Pro   \n",
       "1           10002 2024-01-02  Home Appliances         Dyson V11 Vacuum   \n",
       "2           10003 2024-01-03         Clothing         Levi's 501 Jeans   \n",
       "3           10004 2024-01-04            Books        The Da Vinci Code   \n",
       "4           10005 2024-01-05  Beauty Products  Neutrogena Skincare Set   \n",
       "\n",
       "   Units Sold  Unit Price  Total Revenue         Region Payment Method  Year  \\\n",
       "0           2      999.99        1999.98  North America    Credit Card  2024   \n",
       "1           1      499.99         499.99         Europe         PayPal  2024   \n",
       "2           3       69.99         209.97           Asia     Debit Card  2024   \n",
       "3           4       15.99          63.96  North America    Credit Card  2024   \n",
       "4           1       89.99          89.99         Europe         PayPal  2024   \n",
       "\n",
       "     Month  Day Day_of_Week  Week_Number  \n",
       "0  January    1      Monday            1  \n",
       "1  January    2     Tuesday            1  \n",
       "2  January    3   Wednesday            1  \n",
       "3  January    4    Thursday            1  \n",
       "4  January    5      Friday            1  "
      ]
     },
     "execution_count": 12,
     "metadata": {},
     "output_type": "execute_result"
    }
   ],
   "source": [
    "# 8. Separamos la fecha en año, mes, día, nombre del día de la semana y número de semana.\n",
    "data['Year'] = data['Date'].dt.year\n",
    "data['Month'] = data['Date'].dt.month_name()\n",
    "data['Day'] = data['Date'].dt.day\n",
    "data['Day_of_Week'] = data['Date'].dt.day_name()\n",
    "data['Week_Number'] = data['Date'].dt.isocalendar().week\n",
    "\n",
    "data.head()"
   ]
  },
  {
   "cell_type": "markdown",
   "id": "f5919698-377d-4c70-a544-1a8dcdbd3d06",
   "metadata": {},
   "source": [
    "# 💳 Análisis de métodos de pago"
   ]
  },
  {
   "cell_type": "markdown",
   "id": "b3daf079-ea6c-4992-b315-42fa47c0801a",
   "metadata": {},
   "source": [
    "## **Comportamiento y preferencia de pago**"
   ]
  },
  {
   "cell_type": "markdown",
   "id": "b1562757-caf7-41ce-af9e-cf46653b2b62",
   "metadata": {},
   "source": [
    "### **1.** ¿Qué métodos de pago se utilizan con mayor frecuencia?"
   ]
  },
  {
   "cell_type": "code",
   "execution_count": 13,
   "id": "90acec13-caf9-48b7-bfe0-c2b09d57f2e6",
   "metadata": {},
   "outputs": [
    {
     "data": {
      "text/html": [
       "<div>\n",
       "<style scoped>\n",
       "    .dataframe tbody tr th:only-of-type {\n",
       "        vertical-align: middle;\n",
       "    }\n",
       "\n",
       "    .dataframe tbody tr th {\n",
       "        vertical-align: top;\n",
       "    }\n",
       "\n",
       "    .dataframe thead th {\n",
       "        text-align: right;\n",
       "    }\n",
       "</style>\n",
       "<table border=\"1\" class=\"dataframe\">\n",
       "  <thead>\n",
       "    <tr style=\"text-align: right;\">\n",
       "      <th></th>\n",
       "      <th>Payment Method</th>\n",
       "      <th>Transactions</th>\n",
       "      <th>Percentage</th>\n",
       "    </tr>\n",
       "  </thead>\n",
       "  <tbody>\n",
       "    <tr>\n",
       "      <th>0</th>\n",
       "      <td>Credit Card</td>\n",
       "      <td>120</td>\n",
       "      <td>50.00</td>\n",
       "    </tr>\n",
       "    <tr>\n",
       "      <th>1</th>\n",
       "      <td>PayPal</td>\n",
       "      <td>80</td>\n",
       "      <td>33.33</td>\n",
       "    </tr>\n",
       "    <tr>\n",
       "      <th>2</th>\n",
       "      <td>Debit Card</td>\n",
       "      <td>40</td>\n",
       "      <td>16.67</td>\n",
       "    </tr>\n",
       "  </tbody>\n",
       "</table>\n",
       "</div>"
      ],
      "text/plain": [
       "  Payment Method  Transactions  Percentage\n",
       "0    Credit Card           120       50.00\n",
       "1         PayPal            80       33.33\n",
       "2     Debit Card            40       16.67"
      ]
     },
     "execution_count": 13,
     "metadata": {},
     "output_type": "execute_result"
    }
   ],
   "source": [
    "# Contamos cuántas veces se ha usado cada método de pago\n",
    "payment_counts = data['Payment Method'].value_counts().reset_index()\n",
    "payment_counts.columns = ['Payment Method', 'Transactions']\n",
    "payment_counts\n",
    "\n",
    "# Calculamos el porcentaje de transacciones por método de pago\n",
    "payment_counts['Percentage'] = ((payment_counts['Transactions'] / payment_counts['Transactions'].sum()) * 100).round(2)\n",
    "payment_counts"
   ]
  },
  {
   "cell_type": "markdown",
   "id": "723c7f69-d8a0-45f5-92ef-b56e20c358ac",
   "metadata": {},
   "source": [
    "✅ **Respuesta:**\n",
    "\n",
    "- El método de pago más utilizado es la **tarjeta de crédito**, con 120 transacciones (**50%**).\n",
    "\n",
    "- **PayPal** es el segundo método más frecuente, con 80 transacciones (**33.33%**).\n",
    "\n",
    "- La **tarjeta de débito** en tercer lugar, con 40 transacciones (**16.67%**).\n",
    "\n",
    "Esto indica que la mitad de las transacciones se efectúan mediante tarjeta de crédito, siendo el método más utilizado, seguido de PayPal y la tarjeta de débito."
   ]
  },
  {
   "cell_type": "markdown",
   "id": "3c331b7f-2122-4f22-b214-0ab737f7abb0",
   "metadata": {},
   "source": [
    "### **2.** ¿Cómo varía el uso de los métodos de pago entre regiones?"
   ]
  },
  {
   "cell_type": "code",
   "execution_count": 14,
   "id": "6c773f07-dce6-4e98-87ac-7e86e86818d5",
   "metadata": {},
   "outputs": [
    {
     "data": {
      "text/html": [
       "<div>\n",
       "<style scoped>\n",
       "    .dataframe tbody tr th:only-of-type {\n",
       "        vertical-align: middle;\n",
       "    }\n",
       "\n",
       "    .dataframe tbody tr th {\n",
       "        vertical-align: top;\n",
       "    }\n",
       "\n",
       "    .dataframe thead th {\n",
       "        text-align: right;\n",
       "    }\n",
       "</style>\n",
       "<table border=\"1\" class=\"dataframe\">\n",
       "  <thead>\n",
       "    <tr style=\"text-align: right;\">\n",
       "      <th></th>\n",
       "      <th>Region</th>\n",
       "      <th>Payment Method</th>\n",
       "      <th>Transactions</th>\n",
       "    </tr>\n",
       "  </thead>\n",
       "  <tbody>\n",
       "    <tr>\n",
       "      <th>0</th>\n",
       "      <td>Asia</td>\n",
       "      <td>Credit Card</td>\n",
       "      <td>40</td>\n",
       "    </tr>\n",
       "    <tr>\n",
       "      <th>1</th>\n",
       "      <td>Asia</td>\n",
       "      <td>Debit Card</td>\n",
       "      <td>40</td>\n",
       "    </tr>\n",
       "    <tr>\n",
       "      <th>2</th>\n",
       "      <td>Europe</td>\n",
       "      <td>PayPal</td>\n",
       "      <td>80</td>\n",
       "    </tr>\n",
       "    <tr>\n",
       "      <th>3</th>\n",
       "      <td>North America</td>\n",
       "      <td>Credit Card</td>\n",
       "      <td>80</td>\n",
       "    </tr>\n",
       "  </tbody>\n",
       "</table>\n",
       "</div>"
      ],
      "text/plain": [
       "          Region Payment Method  Transactions\n",
       "0           Asia    Credit Card            40\n",
       "1           Asia     Debit Card            40\n",
       "2         Europe         PayPal            80\n",
       "3  North America    Credit Card            80"
      ]
     },
     "execution_count": 14,
     "metadata": {},
     "output_type": "execute_result"
    }
   ],
   "source": [
    "# Agrupamos y contamos el número de transacciones por mes y método de pago\n",
    "transactions_method_by_region = data.groupby(['Region','Payment Method'])['Transaction ID'].count().reset_index()\n",
    "transactions_method_by_region.columns = ['Region','Payment Method', 'Transactions']\n",
    "transactions_method_by_region"
   ]
  },
  {
   "cell_type": "markdown",
   "id": "ede68045-778a-4728-8b94-2f9d2fc45117",
   "metadata": {},
   "source": [
    "✅ **Respuesta:**\n",
    "\n",
    "Preferencia de métodos de pago según la región:\n",
    "\n",
    "- En **Norteamérica**, los clientes utilizan exclusivamente la **tarjeta de crédito** como método de pago (80 transacciones).\n",
    "\n",
    "- En **Europa**, el método de pago exclusivo es **PayPal** (80 transacciones).\n",
    "\n",
    "- En **Asia** predominan la **tarjeta de crédito** y la **tarjeta de débito** (40 transacciones cada uno), sin uso de PayPal."
   ]
  },
  {
   "cell_type": "markdown",
   "id": "7674661a-4585-46b3-bd3a-8c32329f99ec",
   "metadata": {},
   "source": [
    "### **3.** ¿Existen patrones estacionales en el uso de ciertos métodos de pago?"
   ]
  },
  {
   "cell_type": "code",
   "execution_count": 15,
   "id": "5dae9f86-c96f-4039-94a7-052cebf33a10",
   "metadata": {},
   "outputs": [
    {
     "data": {
      "text/html": [
       "<div>\n",
       "<style scoped>\n",
       "    .dataframe tbody tr th:only-of-type {\n",
       "        vertical-align: middle;\n",
       "    }\n",
       "\n",
       "    .dataframe tbody tr th {\n",
       "        vertical-align: top;\n",
       "    }\n",
       "\n",
       "    .dataframe thead th {\n",
       "        text-align: right;\n",
       "    }\n",
       "</style>\n",
       "<table border=\"1\" class=\"dataframe\">\n",
       "  <thead>\n",
       "    <tr style=\"text-align: right;\">\n",
       "      <th></th>\n",
       "      <th>Month</th>\n",
       "      <th>Payment Method</th>\n",
       "      <th>Transactions</th>\n",
       "    </tr>\n",
       "  </thead>\n",
       "  <tbody>\n",
       "    <tr>\n",
       "      <th>0</th>\n",
       "      <td>April</td>\n",
       "      <td>Credit Card</td>\n",
       "      <td>15</td>\n",
       "    </tr>\n",
       "    <tr>\n",
       "      <th>1</th>\n",
       "      <td>April</td>\n",
       "      <td>Debit Card</td>\n",
       "      <td>5</td>\n",
       "    </tr>\n",
       "    <tr>\n",
       "      <th>2</th>\n",
       "      <td>April</td>\n",
       "      <td>PayPal</td>\n",
       "      <td>10</td>\n",
       "    </tr>\n",
       "    <tr>\n",
       "      <th>3</th>\n",
       "      <td>August</td>\n",
       "      <td>Credit Card</td>\n",
       "      <td>14</td>\n",
       "    </tr>\n",
       "    <tr>\n",
       "      <th>4</th>\n",
       "      <td>August</td>\n",
       "      <td>Debit Card</td>\n",
       "      <td>4</td>\n",
       "    </tr>\n",
       "    <tr>\n",
       "      <th>5</th>\n",
       "      <td>August</td>\n",
       "      <td>PayPal</td>\n",
       "      <td>9</td>\n",
       "    </tr>\n",
       "    <tr>\n",
       "      <th>6</th>\n",
       "      <td>February</td>\n",
       "      <td>Credit Card</td>\n",
       "      <td>14</td>\n",
       "    </tr>\n",
       "    <tr>\n",
       "      <th>7</th>\n",
       "      <td>February</td>\n",
       "      <td>Debit Card</td>\n",
       "      <td>5</td>\n",
       "    </tr>\n",
       "    <tr>\n",
       "      <th>8</th>\n",
       "      <td>February</td>\n",
       "      <td>PayPal</td>\n",
       "      <td>10</td>\n",
       "    </tr>\n",
       "    <tr>\n",
       "      <th>9</th>\n",
       "      <td>January</td>\n",
       "      <td>Credit Card</td>\n",
       "      <td>16</td>\n",
       "    </tr>\n",
       "    <tr>\n",
       "      <th>10</th>\n",
       "      <td>January</td>\n",
       "      <td>Debit Card</td>\n",
       "      <td>5</td>\n",
       "    </tr>\n",
       "    <tr>\n",
       "      <th>11</th>\n",
       "      <td>January</td>\n",
       "      <td>PayPal</td>\n",
       "      <td>10</td>\n",
       "    </tr>\n",
       "    <tr>\n",
       "      <th>12</th>\n",
       "      <td>July</td>\n",
       "      <td>Credit Card</td>\n",
       "      <td>15</td>\n",
       "    </tr>\n",
       "    <tr>\n",
       "      <th>13</th>\n",
       "      <td>July</td>\n",
       "      <td>Debit Card</td>\n",
       "      <td>6</td>\n",
       "    </tr>\n",
       "    <tr>\n",
       "      <th>14</th>\n",
       "      <td>July</td>\n",
       "      <td>PayPal</td>\n",
       "      <td>10</td>\n",
       "    </tr>\n",
       "    <tr>\n",
       "      <th>15</th>\n",
       "      <td>June</td>\n",
       "      <td>Credit Card</td>\n",
       "      <td>15</td>\n",
       "    </tr>\n",
       "    <tr>\n",
       "      <th>16</th>\n",
       "      <td>June</td>\n",
       "      <td>Debit Card</td>\n",
       "      <td>5</td>\n",
       "    </tr>\n",
       "    <tr>\n",
       "      <th>17</th>\n",
       "      <td>June</td>\n",
       "      <td>PayPal</td>\n",
       "      <td>10</td>\n",
       "    </tr>\n",
       "    <tr>\n",
       "      <th>18</th>\n",
       "      <td>March</td>\n",
       "      <td>Credit Card</td>\n",
       "      <td>16</td>\n",
       "    </tr>\n",
       "    <tr>\n",
       "      <th>19</th>\n",
       "      <td>March</td>\n",
       "      <td>Debit Card</td>\n",
       "      <td>5</td>\n",
       "    </tr>\n",
       "    <tr>\n",
       "      <th>20</th>\n",
       "      <td>March</td>\n",
       "      <td>PayPal</td>\n",
       "      <td>10</td>\n",
       "    </tr>\n",
       "    <tr>\n",
       "      <th>21</th>\n",
       "      <td>May</td>\n",
       "      <td>Credit Card</td>\n",
       "      <td>15</td>\n",
       "    </tr>\n",
       "    <tr>\n",
       "      <th>22</th>\n",
       "      <td>May</td>\n",
       "      <td>Debit Card</td>\n",
       "      <td>5</td>\n",
       "    </tr>\n",
       "    <tr>\n",
       "      <th>23</th>\n",
       "      <td>May</td>\n",
       "      <td>PayPal</td>\n",
       "      <td>11</td>\n",
       "    </tr>\n",
       "  </tbody>\n",
       "</table>\n",
       "</div>"
      ],
      "text/plain": [
       "       Month Payment Method  Transactions\n",
       "0      April    Credit Card            15\n",
       "1      April     Debit Card             5\n",
       "2      April         PayPal            10\n",
       "3     August    Credit Card            14\n",
       "4     August     Debit Card             4\n",
       "5     August         PayPal             9\n",
       "6   February    Credit Card            14\n",
       "7   February     Debit Card             5\n",
       "8   February         PayPal            10\n",
       "9    January    Credit Card            16\n",
       "10   January     Debit Card             5\n",
       "11   January         PayPal            10\n",
       "12      July    Credit Card            15\n",
       "13      July     Debit Card             6\n",
       "14      July         PayPal            10\n",
       "15      June    Credit Card            15\n",
       "16      June     Debit Card             5\n",
       "17      June         PayPal            10\n",
       "18     March    Credit Card            16\n",
       "19     March     Debit Card             5\n",
       "20     March         PayPal            10\n",
       "21       May    Credit Card            15\n",
       "22       May     Debit Card             5\n",
       "23       May         PayPal            11"
      ]
     },
     "execution_count": 15,
     "metadata": {},
     "output_type": "execute_result"
    }
   ],
   "source": [
    "# Lista con los meses en orden de enero a agosto\n",
    "month_order = ['January', 'February', 'March', 'April', 'May', 'June', 'July', 'August']\n",
    "\n",
    "# Agrupamos y contamos el número de transacciones por mes y método de pago\n",
    "transactions_method_by_month = data.groupby(['Month','Payment Method'])['Transaction ID'].count().reset_index()\n",
    "transactions_method_by_month.columns = ['Month','Payment Method', 'Transactions']\n",
    "transactions_method_by_month"
   ]
  },
  {
   "cell_type": "code",
   "execution_count": 16,
   "id": "e3f06997-ac9c-40d0-befb-594fdf9ce2ee",
   "metadata": {},
   "outputs": [
    {
     "data": {
      "image/png": "[encoded data removed]",
      "text/plain": [
       "<Figure size 1200x400 with 1 Axes>"
      ]
     },
     "metadata": {},
     "output_type": "display_data"
    }
   ],
   "source": [
    "# Gráfico de la tendencia mensual de Transacciones por Método de Pago\n",
    "plt.figure(figsize=(12, 4))\n",
    "sns.lineplot(data=transactions_method_by_month, x='Month', y='Transactions', hue = 'Payment Method', marker='o')\n",
    "plt.title('Tendencia Mensual de Transacciones por Método de Pago')\n",
    "plt.xlabel('Mes')\n",
    "plt.ylabel('Transacciones')\n",
    "plt.grid(True)\n",
    "plt.xticks(rotation=45)\n",
    "plt.show()"
   ]
  },
  {
   "cell_type": "markdown",
   "id": "9e1c487a-4e85-486f-bee9-9ad2b4e57e79",
   "metadata": {},
   "source": [
    "✅ **Respuesta:**"
   ]
  },
  {
   "cell_type": "markdown",
   "id": "213972d4-a1a5-45d8-944f-389ffc22cb51",
   "metadata": {},
   "source": [
    "## **Impacto en ingresos y unidades vendidas**"
   ]
  },
  {
   "cell_type": "markdown",
   "id": "6bc99dda-6b60-4438-a96a-a2e47be86c9e",
   "metadata": {},
   "source": [
    "### **4.** ¿Cómo se distribuyen los ingresos por método de pago?"
   ]
  },
  {
   "cell_type": "code",
   "execution_count": 17,
   "id": "9f9faa08-a822-4576-b1df-996a912d0723",
   "metadata": {},
   "outputs": [
    {
     "data": {
      "text/html": [
       "<div>\n",
       "<style scoped>\n",
       "    .dataframe tbody tr th:only-of-type {\n",
       "        vertical-align: middle;\n",
       "    }\n",
       "\n",
       "    .dataframe tbody tr th {\n",
       "        vertical-align: top;\n",
       "    }\n",
       "\n",
       "    .dataframe thead th {\n",
       "        text-align: right;\n",
       "    }\n",
       "</style>\n",
       "<table border=\"1\" class=\"dataframe\">\n",
       "  <thead>\n",
       "    <tr style=\"text-align: right;\">\n",
       "      <th></th>\n",
       "      <th>Payment Method</th>\n",
       "      <th>Total Revenue</th>\n",
       "      <th>Percentage</th>\n",
       "    </tr>\n",
       "  </thead>\n",
       "  <tbody>\n",
       "    <tr>\n",
       "      <th>0</th>\n",
       "      <td>Credit Card</td>\n",
       "      <td>51170.86</td>\n",
       "      <td>63.51</td>\n",
       "    </tr>\n",
       "    <tr>\n",
       "      <th>1</th>\n",
       "      <td>PayPal</td>\n",
       "      <td>21268.06</td>\n",
       "      <td>26.40</td>\n",
       "    </tr>\n",
       "    <tr>\n",
       "      <th>2</th>\n",
       "      <td>Debit Card</td>\n",
       "      <td>8128.93</td>\n",
       "      <td>10.09</td>\n",
       "    </tr>\n",
       "  </tbody>\n",
       "</table>\n",
       "</div>"
      ],
      "text/plain": [
       "  Payment Method  Total Revenue  Percentage\n",
       "0    Credit Card       51170.86       63.51\n",
       "1         PayPal       21268.06       26.40\n",
       "2     Debit Card        8128.93       10.09"
      ]
     },
     "execution_count": 17,
     "metadata": {},
     "output_type": "execute_result"
    }
   ],
   "source": [
    "# Agrupamos y sumamos los ingresos totales por método de pago\n",
    "payment_sales = data.groupby('Payment Method')['Total Revenue'].sum().sort_values(ascending=False).reset_index()\n",
    "\n",
    "# Calcular porcentaje\n",
    "payment_sales['Percentage'] = (payment_sales['Total Revenue'] / payment_sales['Total Revenue'].sum() * 100).round(2)\n",
    "payment_sales"
   ]
  },
  {
   "cell_type": "code",
   "execution_count": 18,
   "id": "89d1437a-2a0c-4705-b976-b5b558ee11e9",
   "metadata": {},
   "outputs": [
    {
     "data": {
      "image/png": "[encoded data removed]",
      "text/plain": [
       "<Figure size 400x400 with 1 Axes>"
      ]
     },
     "metadata": {},
     "output_type": "display_data"
    }
   ],
   "source": [
    "# Graficamos\n",
    "plt.figure(figsize=(4, 4))\n",
    "plt.pie(payment_sales['Percentage'], labels = payment_sales['Payment Method'],autopct='%1.2f%%')\n",
    "plt.title('Porcentaje de Ingresos por Método de Pago')\n",
    "plt.show()"
   ]
  },
  {
   "cell_type": "markdown",
   "id": "97a60819-7c2d-41de-8052-d03db3764e82",
   "metadata": {},
   "source": [
    "✅ **Respuesta:**\n",
    "\n",
    "- La **tarjeta de crédito** aporta la mayor parte de los ingresos, con un **63.51%** del total.\n",
    "\n",
    "- **PayPal** representa el **26.40%** de los ingresos.\n",
    "\n",
    "- La **tarjeta de débito** contribuye con un **10.09%**."
   ]
  },
  {
   "cell_type": "markdown",
   "id": "616df664-7afb-43e0-8cc6-95c17ab30a47",
   "metadata": {},
   "source": [
    "### **5.** ¿Cual es el ticket promedio según el método de pago?"
   ]
  },
  {
   "cell_type": "code",
   "execution_count": 19,
   "id": "b660645c-a9a9-4102-9e2c-836f0bcb5528",
   "metadata": {},
   "outputs": [
    {
     "data": {
      "text/html": [
       "<div>\n",
       "<style scoped>\n",
       "    .dataframe tbody tr th:only-of-type {\n",
       "        vertical-align: middle;\n",
       "    }\n",
       "\n",
       "    .dataframe tbody tr th {\n",
       "        vertical-align: top;\n",
       "    }\n",
       "\n",
       "    .dataframe thead th {\n",
       "        text-align: right;\n",
       "    }\n",
       "</style>\n",
       "<table border=\"1\" class=\"dataframe\">\n",
       "  <thead>\n",
       "    <tr style=\"text-align: right;\">\n",
       "      <th></th>\n",
       "      <th>Payment Method</th>\n",
       "      <th>Ticket Medio</th>\n",
       "    </tr>\n",
       "  </thead>\n",
       "  <tbody>\n",
       "    <tr>\n",
       "      <th>0</th>\n",
       "      <td>Credit Card</td>\n",
       "      <td>426.42</td>\n",
       "    </tr>\n",
       "    <tr>\n",
       "      <th>2</th>\n",
       "      <td>PayPal</td>\n",
       "      <td>265.85</td>\n",
       "    </tr>\n",
       "    <tr>\n",
       "      <th>1</th>\n",
       "      <td>Debit Card</td>\n",
       "      <td>203.22</td>\n",
       "    </tr>\n",
       "  </tbody>\n",
       "</table>\n",
       "</div>"
      ],
      "text/plain": [
       "  Payment Method  Ticket Medio\n",
       "0    Credit Card        426.42\n",
       "2         PayPal        265.85\n",
       "1     Debit Card        203.22"
      ]
     },
     "execution_count": 19,
     "metadata": {},
     "output_type": "execute_result"
    }
   ],
   "source": [
    "# Calculamos el promedio de ingresos por método de pago\n",
    "ticket_medio = data.groupby('Payment Method')['Total Revenue'].mean().reset_index().sort_values(by='Total Revenue', ascending=False).round(2)\n",
    "ticket_medio.columns = ['Payment Method','Ticket Medio']\n",
    "ticket_medio"
   ]
  },
  {
   "cell_type": "markdown",
   "id": "958910bd-f26f-4231-8257-f05368a51392",
   "metadata": {},
   "source": [
    "✅ **Respuesta:**\n",
    "\n",
    "El ticket medio varía según el método de pago:\n",
    "\n",
    "- **Tarjeta de crédito:** 426.42\n",
    "\n",
    "- **PayPal:** 265.85\n",
    "\n",
    "- **Tarjeta de débito:** 203.22\n",
    "\n",
    "Esto indica que las transacciones con tarjeta de crédito suelen tener un valor promedio más alto."
   ]
  },
  {
   "cell_type": "markdown",
   "id": "f702866c-cdc1-430a-84b0-336d86bf0f89",
   "metadata": {},
   "source": [
    "### **6.** ¿Hay diferencias de ingresos entre métodos de pago según la región?"
   ]
  },
  {
   "cell_type": "code",
   "execution_count": 20,
   "id": "e511be5c-84e8-46ee-8160-5ab7fc27836c",
   "metadata": {},
   "outputs": [
    {
     "data": {
      "image/png": "[encoded data removed]",
      "text/plain": [
       "<Figure size 1000x600 with 2 Axes>"
      ]
     },
     "metadata": {},
     "output_type": "display_data"
    }
   ],
   "source": [
    "# Creamos una tabla resumen con los ingresos por región y método de pago\n",
    "region_payment = data.pivot_table(index='Region', columns='Payment Method', values='Total Revenue', aggfunc='sum', fill_value=0)\n",
    "\n",
    "# Heatmap de ingresos por método de pago y región\n",
    "plt.figure(figsize=(10,6))\n",
    "sns.heatmap(region_payment, annot=True, fmt=\".0f\", cmap=\"Blues\")\n",
    "plt.title('Ingresos por método de pago según región')\n",
    "plt.xlabel('Método de pago')\n",
    "plt.ylabel('Región')\n",
    "plt.tight_layout()\n",
    "plt.show()"
   ]
  },
  {
   "cell_type": "markdown",
   "id": "a6e89236-b155-4cf6-a134-5eedbb4af020",
   "metadata": {},
   "source": [
    "✅ **Respuesta:**\n",
    "\n",
    "- En **Norteamérica**, los ingresos provienen exclusivamente de la tarjeta de crédito como método de pago.\n",
    "\n",
    "- En **Europa**,  los ingresos se generan únicamente mediante PayPal.\n",
    "\n",
    "- En **Asia** la mayor parte de los ingresos corresponde a la tarjeta de crédito, seguida en menor medida por la tarjeta de débito, sin registros de uso de PayPal."
   ]
  },
  {
   "cell_type": "markdown",
   "id": "5fc4cd66-4be5-4f79-acc9-24eb481eddd1",
   "metadata": {},
   "source": [
    "### **7.** ¿Existe alguna correlación entre método de pago y unidades vendidas?"
   ]
  },
  {
   "cell_type": "code",
   "execution_count": 21,
   "id": "34c7a4f3-6adf-4dcc-81ef-72d6a909e021",
   "metadata": {},
   "outputs": [
    {
     "data": {
      "text/html": [
       "<div>\n",
       "<style scoped>\n",
       "    .dataframe tbody tr th:only-of-type {\n",
       "        vertical-align: middle;\n",
       "    }\n",
       "\n",
       "    .dataframe tbody tr th {\n",
       "        vertical-align: top;\n",
       "    }\n",
       "\n",
       "    .dataframe thead th {\n",
       "        text-align: right;\n",
       "    }\n",
       "</style>\n",
       "<table border=\"1\" class=\"dataframe\">\n",
       "  <thead>\n",
       "    <tr style=\"text-align: right;\">\n",
       "      <th></th>\n",
       "      <th>Payment Method</th>\n",
       "      <th>Units Sold</th>\n",
       "    </tr>\n",
       "  </thead>\n",
       "  <tbody>\n",
       "    <tr>\n",
       "      <th>0</th>\n",
       "      <td>Credit Card</td>\n",
       "      <td>268</td>\n",
       "    </tr>\n",
       "    <tr>\n",
       "      <th>1</th>\n",
       "      <td>Debit Card</td>\n",
       "      <td>145</td>\n",
       "    </tr>\n",
       "    <tr>\n",
       "      <th>2</th>\n",
       "      <td>PayPal</td>\n",
       "      <td>105</td>\n",
       "    </tr>\n",
       "  </tbody>\n",
       "</table>\n",
       "</div>"
      ],
      "text/plain": [
       "  Payment Method  Units Sold\n",
       "0    Credit Card         268\n",
       "1     Debit Card         145\n",
       "2         PayPal         105"
      ]
     },
     "execution_count": 21,
     "metadata": {},
     "output_type": "execute_result"
    }
   ],
   "source": [
    "# Agrupamos por método de pago y sumamos las unidades vendidas\n",
    "payment_units_by_method = data.groupby('Payment Method')['Units Sold'].sum().sort_values(ascending=False).reset_index()\n",
    "payment_units_by_method"
   ]
  },
  {
   "cell_type": "code",
   "execution_count": 22,
   "id": "9c86a7be-4aef-4405-adfc-2dfb82d410e6",
   "metadata": {},
   "outputs": [
    {
     "data": {
      "image/png": "[encoded data removed]",
      "text/plain": [
       "<Figure size 1400x600 with 1 Axes>"
      ]
     },
     "metadata": {},
     "output_type": "display_data"
    }
   ],
   "source": [
    "plt.figure(figsize=(14,6))\n",
    "\n",
    "# Gráfico de las unidades vendidas por método de pago\n",
    "plt.subplot(1, 2, 2)\n",
    "sns.barplot(data=payment_units_by_method, x='Units Sold', y='Payment Method', hue = 'Payment Method', palette='Blues_d')\n",
    "plt.title('Unidades vendidas por método de pago')\n",
    "plt.xlabel('Cantidad de unidades')\n",
    "plt.ylabel('Método de pago')\n",
    "\n",
    "plt.tight_layout()\n",
    "plt.show()"
   ]
  },
  {
   "cell_type": "markdown",
   "id": "e98dcf88-377a-42c9-87f8-bf90410ef818",
   "metadata": {},
   "source": [
    "✅ **Respuesta:**\n",
    "\n",
    "La tarjeta de crédito también es el método con más unidades vendidas."
   ]
  },
  {
   "cell_type": "code",
   "execution_count": null,
   "id": "c8731e4b-0e98-42de-9d6b-106e285c1f91",
   "metadata": {},
   "outputs": [],
   "source": []
  },
  {
   "cell_type": "code",
   "execution_count": null,
   "id": "2b380297-5854-4d65-8408-f80984d21431",
   "metadata": {},
   "outputs": [],
   "source": []
  },
  {
   "cell_type": "code",
   "execution_count": null,
   "id": "acccc326-9635-4fd6-a49c-5e40339b933b",
   "metadata": {},
   "outputs": [],
   "source": []
  },
  {
   "cell_type": "code",
   "execution_count": null,
   "id": "636be5ab-d994-4562-a2b9-b1ef1a25893e",
   "metadata": {},
   "outputs": [],
   "source": []
  },
  {
   "cell_type": "code",
   "execution_count": null,
   "id": "50542743-28cb-4a05-b086-20b668c1abea",
   "metadata": {},
   "outputs": [],
   "source": []
  }
 ],
 "metadata": {
  "kernelspec": {
   "display_name": "base",
   "language": "python",
   "name": "python3"
  },
  "language_info": {
   "codemirror_mode": {
    "name": "ipython",
    "version": 3
   },
   "file_extension": ".py",
   "mimetype": "text/x-python",
   "name": "python",
   "nbconvert_exporter": "python",
   "pygments_lexer": "ipython3",
   "version": "3.13.5"
  }
 },
 "nbformat": 4,
 "nbformat_minor": 5
}
